{
  "nbformat": 4,
  "nbformat_minor": 0,
  "metadata": {
    "colab": {
      "provenance": []
    },
    "kernelspec": {
      "name": "python3",
      "display_name": "Python 3"
    },
    "language_info": {
      "name": "python"
    }
  },
  "cells": [
    {
      "cell_type": "code",
      "execution_count": 1,
      "metadata": {
        "colab": {
          "base_uri": "https://localhost:8080/"
        },
        "id": "musa09K7Bit0",
        "outputId": "d4d6da1c-ced7-4195-c9b2-4280f71404b2"
      },
      "outputs": [
        {
          "output_type": "stream",
          "name": "stdout",
          "text": [
            "Extracted files to /content/extracted_files\n"
          ]
        }
      ],
      "source": [
        "import zipfile\n",
        "import os\n",
        "import cv2\n",
        "import numpy as np\n",
        "from skimage.feature import hog\n",
        "from skimage import exposure\n",
        "from sklearn.model_selection import train_test_split\n",
        "from sklearn.preprocessing import StandardScaler\n",
        "from tensorflow.keras.models import Sequential\n",
        "from tensorflow.keras.layers import Dense\n",
        "from tensorflow.keras.optimizers import Adam\n",
        "\n",
        "# Function to extract files from ZIP archive\n",
        "def extract_zip(zip_path, extract_to):\n",
        "    with zipfile.ZipFile(zip_path, 'r') as zip_ref:\n",
        "        zip_ref.extractall(extract_to)\n",
        "    print(f\"Extracted files to {extract_to}\")\n",
        "\n",
        "# Step 1: Path to the ZIP file\n",
        "zip_file_path = '/content/dataset.zip'\n",
        "extract_path = '/content/extracted_files'\n",
        "os.makedirs(extract_path, exist_ok=True)\n",
        "\n",
        "# Extract the ZIP file\n",
        "extract_zip(zip_file_path, extract_path)"
      ]
    },
    {
      "cell_type": "code",
      "source": [
        "barrel_path='/content/extracted_files/barrel_images_temp'\n",
        "lions_path='/content/extracted_files/lions_images_temp'"
      ],
      "metadata": {
        "id": "nOcSp5soEj7q"
      },
      "execution_count": 2,
      "outputs": []
    },
    {
      "cell_type": "code",
      "source": [
        "def load_The_images(folder, label):\n",
        "    images = []\n",
        "    labels = []\n",
        "    for filename in os.listdir(folder):\n",
        "        img = cv2.imread(os.path.join(folder, filename))\n",
        "        if img is not None:\n",
        "            img = cv2.resize(img, (128, 128))\n",
        "            images.append(img)\n",
        "            labels.append(label)\n",
        "    return images, labels\n",
        "\n",
        "barrel_images, barrel_labels = load_The_images(barrel_path, 0)#images of normal,label=0\n",
        "lions_images, lions_labels = load_The_images(lions_path, 1)#images of unnormal , label =1\n",
        "\n"
      ],
      "metadata": {
        "id": "TyBeycoEEhPm"
      },
      "execution_count": 3,
      "outputs": []
    },
    {
      "cell_type": "code",
      "source": [
        "X = np.array(barrel_images + lions_images)\n",
        "y = np.array(barrel_labels + lions_labels)"
      ],
      "metadata": {
        "id": "zUsRJQueFEDB"
      },
      "execution_count": 4,
      "outputs": []
    },
    {
      "cell_type": "code",
      "source": [
        "from skimage.feature import hog\n",
        "from sklearn.svm import SVC\n",
        "from sklearn.metrics import classification_report, confusion_matrix\n",
        "from skimage.color import rgb2gray\n",
        "\n",
        "\n",
        "def extract_hog_features(images):\n",
        "    hog_features = []\n",
        "    for img in images:\n",
        "        gray_img = rgb2gray(img)  # Convert to grayscale\n",
        "        features = hog(gray_img, orientations=9, pixels_per_cell=(8, 8),\n",
        "                       cells_per_block=(2, 2), visualize=False)\n",
        "        hog_features.append(features)\n",
        "    return hog_features\n",
        "\n",
        "\n",
        "\n"
      ],
      "metadata": {
        "id": "wOPalyWOFQB1"
      },
      "execution_count": 5,
      "outputs": []
    },
    {
      "cell_type": "code",
      "source": [
        "X_hog = extract_hog_features(X)"
      ],
      "metadata": {
        "id": "XS3ZOYI5FSbV"
      },
      "execution_count": 6,
      "outputs": []
    },
    {
      "cell_type": "code",
      "source": [
        "from sklearn.model_selection import train_test_split\n",
        "\n",
        "# Assuming `X_hog` and `X_sift` are the feature sets, and `labels` are the corresponding labels\n",
        "X_train_hog, X_test_hog, y_train, y_test = train_test_split(X_hog, y, test_size=0.2, random_state=42)"
      ],
      "metadata": {
        "id": "7OqDph8YFXqS"
      },
      "execution_count": 7,
      "outputs": []
    },
    {
      "cell_type": "code",
      "source": [
        "from sklearn import svm, metrics\n",
        "from sklearn.metrics import accuracy_score\n",
        "from sklearn.neural_network import MLPClassifier\n",
        "from sklearn.neighbors import KNeighborsClassifier\n",
        "import matplotlib.pyplot as plt\n",
        "from sklearn.metrics import confusion_matrix, ConfusionMatrixDisplay"
      ],
      "metadata": {
        "id": "9dXn-fVqFb6L"
      },
      "execution_count": 8,
      "outputs": []
    },
    {
      "cell_type": "code",
      "source": [
        "clf_ann_hog = MLPClassifier(hidden_layer_sizes=(50, 25), max_iter=500)\n",
        "clf_ann_hog.fit(X_train_hog, y_train)\n",
        "y_pred_ann_hog = clf_ann_hog.predict(X_test_hog)\n",
        "cm_ann_hog = confusion_matrix(y_test, y_pred_ann_hog)\n",
        "ConfusionMatrixDisplay(cm_ann_hog, display_labels=[0, 1]).plot(cmap='Blues')\n",
        "print(\"ANN with HOG has accuracy score: \" ,accuracy_score(y_test, y_pred_ann_hog))\n",
        "print(\"ANN with HOG Classification Report:\\n\", metrics.classification_report(y_test, y_pred_ann_hog))\n",
        "plt.title(\"ANN Confusion Matrix with HOG\")\n",
        "plt.show()"
      ],
      "metadata": {
        "colab": {
          "base_uri": "https://localhost:8080/",
          "height": 671
        },
        "id": "sEsEFbtfFc8I",
        "outputId": "725df678-c7f2-4a60-8da1-2d070ee226ec"
      },
      "execution_count": 11,
      "outputs": [
        {
          "output_type": "stream",
          "name": "stdout",
          "text": [
            "ANN with HOG has accuracy score:  0.835\n",
            "ANN with HOG Classification Report:\n",
            "               precision    recall  f1-score   support\n",
            "\n",
            "           0       0.86      0.78      0.82        96\n",
            "           1       0.81      0.88      0.85       104\n",
            "\n",
            "    accuracy                           0.83       200\n",
            "   macro avg       0.84      0.83      0.83       200\n",
            "weighted avg       0.84      0.83      0.83       200\n",
            "\n"
          ]
        },
        {
          "output_type": "display_data",
          "data": {
            "text/plain": [
              "<Figure size 640x480 with 2 Axes>"
            ],
            "image/png": "[encoded data removed]"
          },
          "metadata": {}
        }
      ]
    },
    {
      "cell_type": "code",
      "source": [],
      "metadata": {
        "id": "ihC-JREKqYgS"
      },
      "execution_count": null,
      "outputs": []
    }
  ]
}